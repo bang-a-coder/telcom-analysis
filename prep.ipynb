{
 "cells": [
  {
   "cell_type": "code",
   "execution_count": 1,
   "metadata": {},
   "outputs": [
    {
     "name": "stderr",
     "output_type": "stream",
     "text": [
      "/usr/local/lib/python3.9/site-packages/statsmodels/compat/pandas.py:65: FutureWarning: pandas.Int64Index is deprecated and will be removed from pandas in a future version. Use pandas.Index with the appropriate dtype instead.\n",
      "  from pandas import Int64Index as NumericIndex\n"
     ]
    }
   ],
   "source": [
    "import pandas as pd\n",
    "import dask as dd\n",
    "import numpy as np\n",
    "import seaborn as sns\n",
    "import matplotlib.pyplot as plt\n",
    "import datetime as dt\n",
    "import statsmodels.formula.api as smf\n",
    "import statistics\n",
    "\n",
    "from sklearn.linear_model import LogisticRegression\n",
    "\n",
    "import statsmodels.api as sm\n",
    "from statsmodels.genmod.generalized_linear_model import GLM\n",
    "from statsmodels.genmod import families\n",
    "from statsmodels.stats.outliers_influence import variance_inflation_factor\n",
    "\n",
    "from scipy import stats\n",
    "\n",
    "import requests\n",
    "import yfinance as yf\n"
   ]
  },
  {
   "cell_type": "code",
   "execution_count": 2,
   "metadata": {},
   "outputs": [],
   "source": [
    "sns.set()"
   ]
  },
  {
   "cell_type": "code",
   "execution_count": 3,
   "metadata": {},
   "outputs": [
    {
     "name": "stderr",
     "output_type": "stream",
     "text": [
      "/var/folders/5h/tc1b2dhx483_cx6pj09_pyc80000gn/T/ipykernel_1179/3454644713.py:1: DtypeWarning: Columns (3,4,7,8,11,12,14,15,16,19,45,46,49,56,69,83,95,98,99,100,104,108,109,119,120,121,122,123,124,125,127,128,129,141,143,144,145,146,147,148,155,188,217,218,219,220,221,222,223,224,226,229,232,233,234,235,236,237,238,239,240,243,244,245,246,248,249,250,252) have mixed types. Specify dtype option on import or set low_memory=False.\n",
      "  df = pd.read_csv('../data.csv')\n"
     ]
    }
   ],
   "source": [
    "df = pd.read_csv('../data.csv')"
   ]
  },
  {
   "cell_type": "code",
   "execution_count": 4,
   "metadata": {},
   "outputs": [],
   "source": [
    "df = df[df['psic'].notna()] #drop 45 NaN participant SIC\n",
    "telDF = df[df['psicp'].str.contains('481')] #Create df who have at least one participant in the tellcom industry with SIC: https://siccode.com/sic-code/481/telephone-communications\n",
    "telDF = telDF.drop('Unnamed: 0', axis=1)\n",
    "telDF = telDF.reset_index(drop=True)\n",
    "\n",
    "#Export\n",
    "telDF.to_csv('teldf.csv', index=False) #create csv sample"
   ]
  },
  {
   "cell_type": "code",
   "execution_count": 7,
   "metadata": {},
   "outputs": [
    {
     "data": {
      "text/plain": [
       "N    8076\n",
       "Y       9\n",
       "Name: equity_stake, dtype: int64"
      ]
     },
     "execution_count": 7,
     "metadata": {},
     "output_type": "execute_result"
    }
   ],
   "source": [
    "telDF['equity_stake'].value_counts()"
   ]
  },
  {
   "cell_type": "markdown",
   "metadata": {},
   "source": [
    "### Analyse companies in DF"
   ]
  },
  {
   "cell_type": "code",
   "execution_count": null,
   "metadata": {},
   "outputs": [],
   "source": [
    "kortDF = telDF[['da', 'p', 'psicp', 'nump', 'pticker', 'sfc', 'jvf', 'equity_stake']]\n",
    "\n",
    "kortDF['nump'] = kortDF['nump'].astype(int)\n",
    "\n",
    "pattern = r'\\\\n' #Regex pattern to split name\n",
    "\n",
    "#Create seperate columns for each participsnt\n",
    "for n in range(1, (int(kortDF[\"nump\"].max()) + 1)): \n",
    "\tkortDF['p' + str(n) + \"name\"] = kortDF['p'].str.split(pattern, expand=True)[n-1] #Create seperate columns for each possible participant\n",
    "\n",
    "\tkortDF[\"p\" + str(n) + \"sicp\"] = kortDF['psicp'].str.split(pattern, expand=True)[n-1] #Create seperate columns to split participant SIC codes\n",
    "\n",
    "\tkortDF[\"p\" + str(n) + \"ticker\"] = kortDF['pticker'].str.split(pattern, expand=True)[n-1]#Create seperate collumns for participants identifiers"
   ]
  },
  {
   "cell_type": "code",
   "execution_count": 16,
   "metadata": {},
   "outputs": [
    {
     "data": {
      "text/plain": [
       "N    8076\n",
       "Y       9\n",
       "Name: equity_stake, dtype: int64"
      ]
     },
     "execution_count": 16,
     "metadata": {},
     "output_type": "execute_result"
    }
   ],
   "source": [
    "kortDF['equity_stake'].value_counts()"
   ]
  },
  {
   "cell_type": "markdown",
   "metadata": {},
   "source": [
    "### Engineer diversity"
   ]
  },
  {
   "cell_type": "code",
   "execution_count": null,
   "metadata": {},
   "outputs": [],
   "source": [
    "kortDF['diversity'] = 0\n",
    "\n",
    "kortDF.loc[(kortDF.equity_stake == 'Y') & (kortDF.jvf == \"No\"), 'diversity'] = 1\n",
    "kortDF.loc[(kortDF.equity_stake == 'Y') & (kortDF.jvf == \"Yes\"), 'diversity'] = 2\n",
    "\n"
   ]
  },
  {
   "cell_type": "code",
   "execution_count": 20,
   "metadata": {},
   "outputs": [
    {
     "data": {
      "text/plain": [
       "0    8076\n",
       "2       5\n",
       "1       4\n",
       "Name: diversity, dtype: int64"
      ]
     },
     "execution_count": 20,
     "metadata": {},
     "output_type": "execute_result"
    }
   ],
   "source": [
    "kortDF.diversity.value_counts()"
   ]
  },
  {
   "cell_type": "code",
   "execution_count": 8,
   "metadata": {},
   "outputs": [],
   "source": [
    "#Pattern to select names of individual companies\n",
    "pattern = r'p\\d+ticker'\n",
    "\n",
    "#Get collumns of indivisual companies\n",
    "foo = kortDF.filter(regex=pattern, axis=1)\n",
    "\n",
    "#Create DF of companies with their occurances in the entire dataset\n",
    "companies = pd.DataFrame(foo.apply(lambda x: x.value_counts())\n",
    "\t\t\t\t\t.sum(axis=1, skipna=True)\n",
    "\t\t\t\t\t.sort_values(ascending= False), columns=['alliance_count']).reset_index()\n",
    "\n",
    "companies = companies.rename(columns={'index': 'ticker'})\n",
    "\n",
    "#slice and keep only 100 top companies by alliance count\n",
    "companies = companies.nlargest(102, columns='alliance_count')\n",
    "companies = companies[companies.ticker != ''].reset_index(drop=True)"
   ]
  },
  {
   "cell_type": "code",
   "execution_count": null,
   "metadata": {},
   "outputs": [],
   "source": [
    "companies['name'] = ''\n",
    "\n",
    "#Get names for companies who are publically listed\n",
    "def getName(ticker):\n",
    "\tprint(ticker)\n",
    "\tresponse = yf.Ticker(ticker)\n",
    "\n",
    "\tif (response and ('longName' in response.info)):\n",
    "\t\treturn response.info['longName']\n",
    "\telse:\n",
    "\t\treturn None\n",
    "\n",
    "\n",
    "def apply_complex_function(x): return getName(x['ticker'])\n",
    "\n",
    "companies['name'] = companies.apply(apply_complex_function, axis=1)"
   ]
  },
  {
   "cell_type": "code",
   "execution_count": 135,
   "metadata": {},
   "outputs": [],
   "source": [
    "companies.to_csv('companies.csv')"
   ]
  },
  {
   "cell_type": "code",
   "execution_count": 11,
   "metadata": {},
   "outputs": [],
   "source": [
    "companies = pd.read_csv('companies.csv')"
   ]
  },
  {
   "cell_type": "code",
   "execution_count": 12,
   "metadata": {},
   "outputs": [
    {
     "name": "stdout",
     "output_type": "stream",
     "text": [
      "T\n",
      "ERIC\n",
      "BTE\n",
      "LU\n",
      "MCIC\n",
      "9432\n",
      "MSFT\n",
      "9437\n",
      "MOT\n",
      "BEL\n",
      "FON\n",
      "BLS\n",
      "9984\n",
      "TLS\n",
      "VOD\n",
      "TEF\n",
      "IBM\n",
      "NOK1V\n",
      "9431\n",
      "Z74\n",
      "GTE\n",
      "9433\n",
      "NYN\n",
      "BT\n",
      "OLIV\n",
      "DTE\n",
      "SKM\n",
      "6701\n",
      "AIT\n",
      "SBC\n",
      "NTL\n",
      "CSCO\n",
      "UYW\n",
      "TM\n",
      "6702\n",
      "0013\n",
      "KTC\n",
      "CHU\n",
      "INTC\n",
      "CWO\n",
      "6752\n",
      "PHI\n",
      "AV\n",
      "KPN\n",
      "HWP\n",
      "9434\n",
      "CW\n",
      "SIE\n",
      "QCOM\n",
      "WCOM\n",
      "TI\n",
      "6501\n",
      "FTEL\n",
      "6758\n",
      "STEI\n",
      "Q\n",
      "TEL\n",
      "NT\n",
      "GLO\n",
      "CGE.PA\n",
      "8053\n",
      "MTEL\n",
      "HKT\n",
      "AT\n",
      "2412\n",
      "TELN\n",
      "TLKM\n",
      "500483\n",
      "CW.\n",
      "005930\n",
      "nan\n",
      "LVLT\n",
      "MCAWA\n",
      "VZ\n",
      "SUNW\n",
      "CHL\n",
      "AWE\n",
      "8058\n",
      "AOL\n",
      "YHOO\n",
      "ISAT\n",
      "8031\n",
      "GBLX\n",
      "ATI\n",
      "BCE\n",
      "6503\n",
      "032640\n",
      "MTOH\n",
      "6502\n",
      "TELMEX\n",
      "PAC\n",
      "ETEL\n",
      "8002\n",
      "8001\n",
      "NOVL\n",
      "MBT\n",
      "ASY\n",
      "TLD\n",
      "NWS\n",
      "QTEL\n",
      "CHA\n"
     ]
    }
   ],
   "source": [
    "import urllib3\n",
    "\n",
    "fin_data = {}\n",
    "\n",
    "#Functioon to source historic price data through yahoo Finance\n",
    "def get_yfinance_data(ticker):\n",
    "\tprint(ticker)\n",
    "\t\n",
    "\turl = f'https://query1.finance.yahoo.com/v7/finance/download/{ticker}?period1=1072915200&period2=1419984000&interval=1mo&events=history&includeAdjustedClose=true'\n",
    "\n",
    "\theaders = {'User-Agent': 'Mozilla/5.0 (Macintosh; Intel Mac OS X 10_11_5) AppleWebKit/537.36 (KHTML, like Gecko) Chrome/50.0.2661.102 Safari/537.36'}\n",
    "\n",
    "\tif (requests.get(url, headers=headers).status_code == 200):\n",
    "\t\tdata = pd.read_csv(url)\n",
    "\telse:\n",
    "\t\tdata = None\n",
    "\t\n",
    "\treturn data\n",
    "\n",
    "#Funciton to split and arragne data to before and after discontinuity for a given company\n",
    "def getPrices(ticker):\n",
    "\tte = get_yfinance_data(ticker)\n",
    "\n",
    "\tif (type(te) != pd.core.frame.DataFrame):\n",
    "\t\treturn (None, None)\n",
    "\n",
    "\tte['Date'] = pd.to_datetime(te['Date'])\n",
    "\tte = te.set_index('Date', drop=True)\n",
    "\tp_before = (te[te.index.year <= 2009]['Close']).mean()\n",
    "\tp_after = (te[te.index.year > 2009]['Close']).mean()\n",
    "\n",
    "\treturn (p_before, p_after)\n",
    "\n",
    "\n",
    "price_bd = []\n",
    "price_ad = []\n",
    "\n",
    "#Create two sample lists for the prices averege price before and after\n",
    "for t in companies['ticker']:\n",
    "\tvals = getPrices(t)\n",
    "\n",
    "\tprice_bd.append(vals[0])\n",
    "\tprice_ad.append(vals[1])"
   ]
  },
  {
   "cell_type": "code",
   "execution_count": 13,
   "metadata": {},
   "outputs": [],
   "source": [
    "#Add price lists to dataframe\n",
    "companies['price_bd'] = price_bd\n",
    "companies['price_ad'] = price_ad"
   ]
  },
  {
   "cell_type": "code",
   "execution_count": 15,
   "metadata": {},
   "outputs": [],
   "source": [
    "companies.to_csv('c_data.csv')"
   ]
  },
  {
   "cell_type": "code",
   "execution_count": 248,
   "metadata": {},
   "outputs": [],
   "source": []
  },
  {
   "cell_type": "code",
   "execution_count": 27,
   "metadata": {},
   "outputs": [],
   "source": [
    "companies = pd.read_csv('./c_data.csv')\n",
    "companies.drop(\"Unnamed: 0.1\", axis=1, inplace=True)\n",
    "companies.drop(\"Unnamed: 0\", axis=1, inplace=True)"
   ]
  },
  {
   "cell_type": "code",
   "execution_count": 32,
   "metadata": {},
   "outputs": [
    {
     "data": {
      "text/plain": [
       "0         T\n",
       "1      ERIC\n",
       "2       BTE\n",
       "3        LU\n",
       "4      MCIC\n",
       "       ... \n",
       "96      ASY\n",
       "97      TLD\n",
       "98      NWS\n",
       "99     QTEL\n",
       "100     CHA\n",
       "Name: ticker, Length: 101, dtype: object"
      ]
     },
     "execution_count": 32,
     "metadata": {},
     "output_type": "execute_result"
    }
   ],
   "source": [
    "companies.ticker"
   ]
  },
  {
   "cell_type": "code",
   "execution_count": 43,
   "metadata": {},
   "outputs": [],
   "source": [
    "pattern = r'pticker|diversity'\n",
    "\n",
    "wall = kortDF.filter(regex = pattern)\n",
    "\n",
    "companies['diversity'] = 0\n",
    "companies['diversity_var'] = 0"
   ]
  },
  {
   "cell_type": "code",
   "execution_count": 48,
   "metadata": {},
   "outputs": [],
   "source": [
    "companies['diversity'] = companies['ticker'].apply(lambda x: len(wall.loc[(wall.pticker.str.contains(f'{x}'))]['diversity'].value_counts()))\n"
   ]
  },
  {
   "cell_type": "code",
   "execution_count": 51,
   "metadata": {},
   "outputs": [],
   "source": [
    "companies['diversity_var'] = companies['ticker'].apply(lambda x: (wall.loc[(wall.pticker.str.contains(f'{x}'))]['diversity']).var())"
   ]
  },
  {
   "cell_type": "code",
   "execution_count": 52,
   "metadata": {},
   "outputs": [
    {
     "data": {
      "text/html": [
       "<div>\n",
       "<style scoped>\n",
       "    .dataframe tbody tr th:only-of-type {\n",
       "        vertical-align: middle;\n",
       "    }\n",
       "\n",
       "    .dataframe tbody tr th {\n",
       "        vertical-align: top;\n",
       "    }\n",
       "\n",
       "    .dataframe thead th {\n",
       "        text-align: right;\n",
       "    }\n",
       "</style>\n",
       "<table border=\"1\" class=\"dataframe\">\n",
       "  <thead>\n",
       "    <tr style=\"text-align: right;\">\n",
       "      <th></th>\n",
       "      <th>ticker</th>\n",
       "      <th>alliance_count</th>\n",
       "      <th>name</th>\n",
       "      <th>price_bd</th>\n",
       "      <th>price_ad</th>\n",
       "      <th>diversity</th>\n",
       "      <th>diversity_var</th>\n",
       "    </tr>\n",
       "  </thead>\n",
       "  <tbody>\n",
       "    <tr>\n",
       "      <th>0</th>\n",
       "      <td>T</td>\n",
       "      <td>411.0</td>\n",
       "      <td>AT&amp;T Inc.</td>\n",
       "      <td>22.367615</td>\n",
       "      <td>24.207578</td>\n",
       "      <td>3</td>\n",
       "      <td>0.004833</td>\n",
       "    </tr>\n",
       "    <tr>\n",
       "      <th>1</th>\n",
       "      <td>ERIC</td>\n",
       "      <td>185.0</td>\n",
       "      <td>Telefonaktiebolaget LM Ericsson (publ)</td>\n",
       "      <td>14.161389</td>\n",
       "      <td>11.360500</td>\n",
       "      <td>1</td>\n",
       "      <td>0.000000</td>\n",
       "    </tr>\n",
       "    <tr>\n",
       "      <th>2</th>\n",
       "      <td>BTE</td>\n",
       "      <td>134.0</td>\n",
       "      <td>NaN</td>\n",
       "      <td>NaN</td>\n",
       "      <td>NaN</td>\n",
       "      <td>1</td>\n",
       "      <td>0.000000</td>\n",
       "    </tr>\n",
       "    <tr>\n",
       "      <th>3</th>\n",
       "      <td>LU</td>\n",
       "      <td>124.0</td>\n",
       "      <td>Lufax Holding Ltd</td>\n",
       "      <td>NaN</td>\n",
       "      <td>NaN</td>\n",
       "      <td>1</td>\n",
       "      <td>0.000000</td>\n",
       "    </tr>\n",
       "    <tr>\n",
       "      <th>4</th>\n",
       "      <td>MCIC</td>\n",
       "      <td>116.0</td>\n",
       "      <td>MultiCorp International, Inc.</td>\n",
       "      <td>10.848227</td>\n",
       "      <td>0.006962</td>\n",
       "      <td>1</td>\n",
       "      <td>0.000000</td>\n",
       "    </tr>\n",
       "    <tr>\n",
       "      <th>...</th>\n",
       "      <td>...</td>\n",
       "      <td>...</td>\n",
       "      <td>...</td>\n",
       "      <td>...</td>\n",
       "      <td>...</td>\n",
       "      <td>...</td>\n",
       "      <td>...</td>\n",
       "    </tr>\n",
       "    <tr>\n",
       "      <th>96</th>\n",
       "      <td>ASY</td>\n",
       "      <td>16.0</td>\n",
       "      <td>NaN</td>\n",
       "      <td>18.754756</td>\n",
       "      <td>0.045172</td>\n",
       "      <td>1</td>\n",
       "      <td>0.000000</td>\n",
       "    </tr>\n",
       "    <tr>\n",
       "      <th>97</th>\n",
       "      <td>TLD</td>\n",
       "      <td>15.0</td>\n",
       "      <td>NaN</td>\n",
       "      <td>NaN</td>\n",
       "      <td>NaN</td>\n",
       "      <td>1</td>\n",
       "      <td>0.000000</td>\n",
       "    </tr>\n",
       "    <tr>\n",
       "      <th>98</th>\n",
       "      <td>NWS</td>\n",
       "      <td>15.0</td>\n",
       "      <td>News Corporation</td>\n",
       "      <td>NaN</td>\n",
       "      <td>16.591667</td>\n",
       "      <td>1</td>\n",
       "      <td>0.000000</td>\n",
       "    </tr>\n",
       "    <tr>\n",
       "      <th>99</th>\n",
       "      <td>QTEL</td>\n",
       "      <td>15.0</td>\n",
       "      <td>NaN</td>\n",
       "      <td>NaN</td>\n",
       "      <td>NaN</td>\n",
       "      <td>1</td>\n",
       "      <td>0.000000</td>\n",
       "    </tr>\n",
       "    <tr>\n",
       "      <th>100</th>\n",
       "      <td>CHA</td>\n",
       "      <td>15.0</td>\n",
       "      <td>NaN</td>\n",
       "      <td>NaN</td>\n",
       "      <td>NaN</td>\n",
       "      <td>1</td>\n",
       "      <td>0.000000</td>\n",
       "    </tr>\n",
       "  </tbody>\n",
       "</table>\n",
       "<p>101 rows × 7 columns</p>\n",
       "</div>"
      ],
      "text/plain": [
       "    ticker  alliance_count                                    name   price_bd  \\\n",
       "0        T           411.0                               AT&T Inc.  22.367615   \n",
       "1     ERIC           185.0  Telefonaktiebolaget LM Ericsson (publ)  14.161389   \n",
       "2      BTE           134.0                                     NaN        NaN   \n",
       "3       LU           124.0                       Lufax Holding Ltd        NaN   \n",
       "4     MCIC           116.0           MultiCorp International, Inc.  10.848227   \n",
       "..     ...             ...                                     ...        ...   \n",
       "96     ASY            16.0                                     NaN  18.754756   \n",
       "97     TLD            15.0                                     NaN        NaN   \n",
       "98     NWS            15.0                        News Corporation        NaN   \n",
       "99    QTEL            15.0                                     NaN        NaN   \n",
       "100    CHA            15.0                                     NaN        NaN   \n",
       "\n",
       "      price_ad  diversity  diversity_var  \n",
       "0    24.207578          3       0.004833  \n",
       "1    11.360500          1       0.000000  \n",
       "2          NaN          1       0.000000  \n",
       "3          NaN          1       0.000000  \n",
       "4     0.006962          1       0.000000  \n",
       "..         ...        ...            ...  \n",
       "96    0.045172          1       0.000000  \n",
       "97         NaN          1       0.000000  \n",
       "98   16.591667          1       0.000000  \n",
       "99         NaN          1       0.000000  \n",
       "100        NaN          1       0.000000  \n",
       "\n",
       "[101 rows x 7 columns]"
      ]
     },
     "execution_count": 52,
     "metadata": {},
     "output_type": "execute_result"
    }
   ],
   "source": [
    "companies"
   ]
  },
  {
   "cell_type": "code",
   "execution_count": 54,
   "metadata": {},
   "outputs": [],
   "source": [
    "companies.to_csv('c_data_var.csv')"
   ]
  },
  {
   "cell_type": "code",
   "execution_count": null,
   "metadata": {},
   "outputs": [],
   "source": []
  }
 ],
 "metadata": {
  "kernelspec": {
   "display_name": "Python 3.9.10 64-bit",
   "language": "python",
   "name": "python3"
  },
  "language_info": {
   "codemirror_mode": {
    "name": "ipython",
    "version": 3
   },
   "file_extension": ".py",
   "mimetype": "text/x-python",
   "name": "python",
   "nbconvert_exporter": "python",
   "pygments_lexer": "ipython3",
   "version": "3.9.10"
  },
  "orig_nbformat": 4,
  "vscode": {
   "interpreter": {
    "hash": "aee8b7b246df8f9039afb4144a1f6fd8d2ca17a180786b69acc140d282b71a49"
   }
  }
 },
 "nbformat": 4,
 "nbformat_minor": 2
}
