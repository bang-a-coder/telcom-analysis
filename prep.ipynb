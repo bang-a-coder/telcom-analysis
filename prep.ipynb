{
 "cells": [
  {
   "cell_type": "code",
   "execution_count": 103,
   "metadata": {},
   "outputs": [],
   "source": [
    "import pandas as pd\n",
    "import dask as dd\n",
    "import numpy as np\n",
    "import seaborn as sns\n",
    "import matplotlib.pyplot as plt\n",
    "import datetime as dt\n",
    "import statsmodels.formula.api as smf\n",
    "import statistics\n",
    "\n",
    "from sklearn.linear_model import LogisticRegression\n",
    "\n",
    "import statsmodels.api as sm\n",
    "from statsmodels.genmod.generalized_linear_model import GLM\n",
    "from statsmodels.genmod import families\n",
    "from statsmodels.stats.outliers_influence import variance_inflation_factor\n",
    "\n",
    "from scipy import stats\n",
    "\n",
    "import requests\n",
    "import yfinance as yf\n"
   ]
  },
  {
   "cell_type": "code",
   "execution_count": 2,
   "metadata": {},
   "outputs": [],
   "source": [
    "sns.set()"
   ]
  },
  {
   "cell_type": "code",
   "execution_count": 3,
   "metadata": {},
   "outputs": [
    {
     "name": "stderr",
     "output_type": "stream",
     "text": [
      "/var/folders/5h/tc1b2dhx483_cx6pj09_pyc80000gn/T/ipykernel_11647/3454644713.py:1: DtypeWarning: Columns (3,4,7,8,11,12,14,15,16,19,45,46,49,56,69,83,95,98,99,100,104,108,109,119,120,121,122,123,124,125,127,128,129,141,143,144,145,146,147,148,155,188,217,218,219,220,221,222,223,224,226,229,232,233,234,235,236,237,238,239,240,243,244,245,246,248,249,250,252) have mixed types. Specify dtype option on import or set low_memory=False.\n",
      "  df = pd.read_csv('../data.csv')\n"
     ]
    }
   ],
   "source": [
    "df = pd.read_csv('../data.csv')"
   ]
  },
  {
   "cell_type": "code",
   "execution_count": 4,
   "metadata": {},
   "outputs": [],
   "source": [
    "df = df[df['psic'].notna()] #drop 45 NaN participant SIC\n",
    "telDF = df[df['psicp'].str.contains('481')] #Create df who have at least one participant in the tellcom industry with SIC: https://siccode.com/sic-code/481/telephone-communications\n",
    "telDF = telDF.drop('Unnamed: 0', axis=1)\n",
    "telDF = telDF.reset_index(drop=True)\n",
    "\n",
    "#Export\n",
    "telDF.to_csv('teldf.csv', index=False) #create csv sample"
   ]
  },
  {
   "cell_type": "markdown",
   "metadata": {},
   "source": [
    "### Analyse companies in DF"
   ]
  },
  {
   "cell_type": "code",
   "execution_count": null,
   "metadata": {},
   "outputs": [],
   "source": [
    "kortDF = telDF[['da', 'p', 'psicp', 'nump', 'pticker', 'sfc']]\n",
    "\n",
    "kortDF['nump'] = kortDF['nump'].astype(int)\n",
    "\n",
    "pattern = r'\\\\n' #Regex pattern to split name\n",
    "\n",
    "#Create seperate columns for each participsnt\n",
    "for n in range(1, (int(kortDF[\"nump\"].max()) + 1)): \n",
    "\tkortDF['p' + str(n) + \"name\"] = kortDF['p'].str.split(pattern, expand=True)[n-1] #Create seperate columns for each possible participant\n",
    "\n",
    "\tkortDF[\"p\" + str(n) + \"sicp\"] = kortDF['psicp'].str.split(pattern, expand=True)[n-1] #Create seperate columns to split participant SIC codes\n",
    "\n",
    "\tkortDF[\"p\" + str(n) + \"ticker\"] = kortDF['pticker'].str.split(pattern, expand=True)[n-1]#Create seperate collumns for participants identifiers"
   ]
  },
  {
   "cell_type": "code",
   "execution_count": 104,
   "metadata": {},
   "outputs": [],
   "source": [
    "#Pattern to select names of individual companies\n",
    "pattern = r'p\\d+ticker'\n",
    "\n",
    "#Get collumns of indivisual companies\n",
    "foo = kortDF.filter(regex=pattern, axis=1)\n",
    "\n",
    "#Create DF of companies with their occurances in the entire dataset\n",
    "companies = pd.DataFrame(foo.apply(lambda x: x.value_counts())\n",
    "\t\t\t\t\t.sum(axis=1, skipna=True)\n",
    "\t\t\t\t\t.sort_values(ascending= False), columns=['alliance_count']).reset_index()\n",
    "\n",
    "companies = companies.rename(columns={'index': 'ticker'})\n",
    "\n",
    "#slice and keep only 100 top companies by alliance count\n",
    "companies = companies.nlargest(102, columns='alliance_count')\n",
    "companies = companies[companies.ticker != ''].reset_index(drop=True)"
   ]
  },
  {
   "cell_type": "code",
   "execution_count": null,
   "metadata": {},
   "outputs": [],
   "source": [
    "companies['name'] = ''\n",
    "\n",
    "#Get names for companies who are publically listed\n",
    "def getName(ticker):\n",
    "\tprint(ticker)\n",
    "\tresponse = yf.Ticker(ticker)\n",
    "\n",
    "\tif (response and ('longName' in response.info)):\n",
    "\t\treturn response.info['longName']\n",
    "\telse:\n",
    "\t\treturn None\n",
    "\n",
    "\n",
    "def apply_complex_function(x): return getName(x['ticker'])\n",
    "\n",
    "companies['name'] = companies.apply(apply_complex_function, axis=1)"
   ]
  },
  {
   "cell_type": "code",
   "execution_count": 135,
   "metadata": {},
   "outputs": [],
   "source": [
    "companies.to_csv('companies.csv')"
   ]
  },
  {
   "cell_type": "code",
   "execution_count": null,
   "metadata": {},
   "outputs": [],
   "source": [
    "import urllib3\n",
    "\n",
    "fin_data = {}\n",
    "\n",
    "#Functioon to source historic price data through yahoo Finance\n",
    "def get_yfinance_data(ticker):\n",
    "\tprint(ticker)\n",
    "\t\n",
    "\turl = f'https://query1.finance.yahoo.com/v7/finance/download/{ticker}?period1=1072915200&period2=1419984000&interval=1mo&events=history&includeAdjustedClose=true'\n",
    "\n",
    "\theaders = {'User-Agent': 'Mozilla/5.0 (Macintosh; Intel Mac OS X 10_11_5) AppleWebKit/537.36 (KHTML, like Gecko) Chrome/50.0.2661.102 Safari/537.36'}\n",
    "\n",
    "\tif (requests.get(url, headers=headers).status_code == 200):\n",
    "\t\tdata = pd.read_csv(url)\n",
    "\telse:\n",
    "\t\tdata = None\n",
    "\t\n",
    "\treturn data\n",
    "\n",
    "#Funciton to split and arragne data to before and after discontinuity for a given company\n",
    "def getPrices(ticker):\n",
    "\tte = get_yfinance_data(ticker)\n",
    "\n",
    "\tif (type(te) != pd.core.frame.DataFrame):\n",
    "\t\treturn (None, None)\n",
    "\n",
    "\tte['Date'] = pd.to_datetime(te['Date'])\n",
    "\tte = te.set_index('Date', drop=True)\n",
    "\tp_before = (te[te.index.year <= 2009]['Close']).mean()\n",
    "\tp_after = (te[te.index.year <= 2009]['Close']).mean()\n",
    "\n",
    "\treturn (p_before, p_after)\n",
    "\n",
    "\n",
    "price_bd = []\n",
    "price_ad = []\n",
    "\n",
    "#Create two sample lists for the prices averege price before and after\n",
    "for t in companies['ticker']:\n",
    "\tvals = getPrices(t)\n",
    "\n",
    "\tprice_bd.append(vals[0])\n",
    "\tprice_ad.append(vals[1])"
   ]
  },
  {
   "cell_type": "code",
   "execution_count": 242,
   "metadata": {},
   "outputs": [],
   "source": [
    "#Add price lists to dataframe\n",
    "companies['price_bd'] = price_bd\n",
    "companies['price_ad'] = price_ad"
   ]
  },
  {
   "cell_type": "code",
   "execution_count": 243,
   "metadata": {},
   "outputs": [],
   "source": []
  },
  {
   "cell_type": "code",
   "execution_count": 248,
   "metadata": {},
   "outputs": [],
   "source": []
  },
  {
   "cell_type": "code",
   "execution_count": null,
   "metadata": {},
   "outputs": [],
   "source": []
  }
 ],
 "metadata": {
  "kernelspec": {
   "display_name": "Python 3.9.10 64-bit",
   "language": "python",
   "name": "python3"
  },
  "language_info": {
   "codemirror_mode": {
    "name": "ipython",
    "version": 3
   },
   "file_extension": ".py",
   "mimetype": "text/x-python",
   "name": "python",
   "nbconvert_exporter": "python",
   "pygments_lexer": "ipython3",
   "version": "3.9.10"
  },
  "orig_nbformat": 4,
  "vscode": {
   "interpreter": {
    "hash": "aee8b7b246df8f9039afb4144a1f6fd8d2ca17a180786b69acc140d282b71a49"
   }
  }
 },
 "nbformat": 4,
 "nbformat_minor": 2
}
